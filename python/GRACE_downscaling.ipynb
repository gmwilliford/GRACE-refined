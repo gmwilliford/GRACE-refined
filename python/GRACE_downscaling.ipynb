'''
# GRACE Downscaling Workflow

This Python notebook explains the GRACE downscaling process, which aims to merge and downscale hydrological data to obtain groundwater components at a finer spatial resolution. The key steps include data loading, preprocessing, model training, and residual correction.
'''

# Importing Required Libraries

import os
import netCDF4 as nc  # Handling NetCDF files
import rasterio       # Working with raster data
import numpy as np    # Numerical operations
import geopandas as gpd  # Geospatial data operations
import matplotlib.pyplot as plt  # Visualization
from rasterio.warp import reproject, Resampling
from sklearn.ensemble import RandomForestRegressor  # Machine learning model

# Load and Process GRACE Data

# Set the working directory
grace_dir = "~/Projects/GRACE-refined/GRACE_Comp/"
os.chdir(os.path.expanduser(grace_dir))

# List all GRACE NetCDF files
grace_files = [f for f in os.listdir('.') if f.endswith('.nc')]

grace_clipped_list = []

for file in grace_files:
    # Open the NetCDF file
    grace_nc = nc.Dataset(file)
    lat = grace_nc.variables['lat'][:]
    lon = grace_nc.variables['lon'][:]
    lwe_thickness = grace_nc.variables['lwe_thickness'][:]
    
    # Convert to raster format
    with rasterio.open(file) as src:
        grace_rst = src.read(1)
        profile = src.profile
    
    # Rotate the raster to correct alignment
    grace_rst = np.flipud(grace_rst)
    
    # Read shapefile and reproject
    shapefile = gpd.read_file("~/Projects/GRACE-refined/MS_Embayment_SHP/Mississippi_embayment.shp")
    shapefile_proj = shapefile.to_crs(profile['crs'])
    
    # Clip GRACE raster by shapefile extent
    bounds = shapefile_proj.total_bounds
    window = rasterio.windows.from_bounds(*bounds, transform=profile['transform'])
    grace_clip = grace_rst[window.row_off:window.row_off+window.height, window.col_off:window.col_off+window.width]
    
    # Store processed data
    grace_clipped_list.append(grace_clip)
    
    grace_nc.close()

# Load and Process GLDAS Data

gldas_dir = "~/Projects/GRACE-refined/GLDAS_1x1"
gldas_files = [os.path.join(gldas_dir, f) for f in os.listdir(gldas_dir) if f.endswith('.nc4')]

var_names = ["Evap_tavg", "Qs_acc", "SWE_inst", "CanopInt_inst", "RootMoist_inst", "SoilMoi0_10cm_inst", "SoilMoi10_40cm_inst", "SoilMoi40_100cm_inst", "SoilMoi100_200cm_inst", "Rainf_f_tavg"]

gldas1_stacked = []

for file in gldas_files:
    for var_name in var_names:
        with rasterio.open(file) as src:
            band = src.read(1)
            clipped_band = band[window.row_off:window.row_off+window.height, window.col_off:window.col_off+window.width]
            gldas1_stacked.append(clipped_band)

# Next Steps:
# 1. Train Random Forest model
# 2. Perform residual correction
# 3. Downscale to finer resolution
# 4. Extract specific yield

print("GRACE and GLDAS data processing complete.")
